{
 "cells": [
  {
   "cell_type": "markdown",
   "id": "d875aa28-fb84-49c3-8574-f181f2933f05",
   "metadata": {},
   "source": [
    "#  TS1: Síntesis de señales\n",
    "### Autora: Lola Pampin\n",
    "\n",
    "## Consigna\n",
    "Resolver\n",
    "1) Sintetizar y graficar:\n",
    "\n",
    "Una señal sinusoidal de 2KHz.\n",
    "Misma señal amplificada y desfazada en π/2.\n",
    "Misma señal modulada en amplitud por otra señal sinusoidal de la mitad de la frecuencia.\n",
    "Señal anterior recortada al 75% de su potencia.\n",
    "Una señal cuadrada de 4KHz.\n",
    "Un pulso rectangular de 10ms.\n",
    "En cada caso indique tiempo entre muestras, número de muestras y potencia.\n",
    "2) Verificar ortogonalidad entre la primera señal y las demás.\n",
    "\n",
    "3) Graficar la autocorrelación de la primera señal y la correlación entre ésta y las demás.\n",
    "\n",
    "3) Dada la siguiente propiedad trigonométrica:\n",
    "\n",
    "2⋅ sin(α)⋅ sin(β) = cos(α-β)-cos(α+β)\n",
    "\n",
    "Demostrar la igualdad\n",
    "Mostrar que la igualdad se cumple con señales sinosoidales, considerando α=ω⋅t, el doble de β (Use la frecuencia que desee).\n",
    "Bonus\n",
    "4) Graficar la temperatura del procesador de tu computadora en tiempo real.\n",
    "\n",
    "Suponiendo distancia entre muestras constante\n",
    "Considerando el tiempo de la muestra tomada\n",
    "5) Bajar un wav de freesoung.org, graficarlo y calcular la energía"
   ]
  },
  {
   "cell_type": "code",
   "execution_count": null,
   "id": "7c1e0062-298c-4ec4-801e-dc9c7262c3f7",
   "metadata": {},
   "outputs": [],
   "source": []
  }
 ],
 "metadata": {
  "kernelspec": {
   "display_name": "Python 3 (ipykernel)",
   "language": "python",
   "name": "python3"
  },
  "language_info": {
   "codemirror_mode": {
    "name": "ipython",
    "version": 3
   },
   "file_extension": ".py",
   "mimetype": "text/x-python",
   "name": "python",
   "nbconvert_exporter": "python",
   "pygments_lexer": "ipython3",
   "version": "3.13.5"
  }
 },
 "nbformat": 4,
 "nbformat_minor": 5
}
