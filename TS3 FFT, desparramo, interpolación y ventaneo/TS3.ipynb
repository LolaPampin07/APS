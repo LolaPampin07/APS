{
 "cells": [
  {
   "cell_type": "markdown",
   "id": "c561b60e-9037-489a-8ee9-db8bab856113",
   "metadata": {},
   "source": [
    "# TS2: Sistema Lineales e Invariantes en el Tiempo\n",
    "### Autora: Lola Pampin\n",
    "## Docentes: Mariano Llamedo Soria, Francisco Hernan Ledesma y David Ezequiel Benoit\n",
    "18/09/2025"
   ]
  },
  {
   "cell_type": "markdown",
   "id": "bba6be41-0c47-4698-a41f-324e8507ba3a",
   "metadata": {},
   "source": [
    "# **Resumen**\n",
    "En el presente se describe el fenómeno de *desparramo espectral*, se presenta y corrobora la *identidad de Parseval*, y se analiza el método de zeropadding."
   ]
  },
  {
   "cell_type": "markdown",
   "id": "946e1fe8-8997-4382-beb5-3b9ab5b72f72",
   "metadata": {},
   "source": [
    "# **Introducción**\n",
    "La medición, estimación y caracterización del contenido en frecuencia de una señal se realiza a través del *análisis espectral*. \n",
    "$$ x(t) \\rightarrow \\text {Adquisición  de  la  señal} \\rightarrow x[n] \\rightarrow \\text {Análisis  espectral} \\rightarrow DFT $$\n",
    "\n",
    "Los dos problemas centrales del análisis espectral son el ventaneo y la frecuencia de muestreo. El primero se refiere a que en problemas reales, no se pueden analizar señales infinitas, por lo que se deben tomar solo un segmento de la señal. Y el segundo, hace referencia al hecho de que en la práctica no se pueden tomar mediciones continuas, por lo que se recae en una *frecuencia de muestreo*, donde la herramienta de análisis no es la DTFT, si no son las transformadas muestreadas (DFT/FFT).\n",
    "\n",
    "## *Efectos espectrales del ventaneo*\n"
   ]
  },
  {
   "cell_type": "markdown",
   "id": "368ea84a-e547-4e06-be12-c0940ec03bfe",
   "metadata": {},
   "source": [
    "# **Desarrollo**"
   ]
  },
  {
   "cell_type": "markdown",
   "id": "165af18c-37c4-4109-b860-3a677a3ebc61",
   "metadata": {},
   "source": [
    "# **Conclusiones**"
   ]
  },
  {
   "cell_type": "code",
   "execution_count": null,
   "id": "3ccfc328-8fea-4206-a9a7-7a32d46f149d",
   "metadata": {},
   "outputs": [],
   "source": []
  }
 ],
 "metadata": {
  "kernelspec": {
   "display_name": "Python 3 (ipykernel)",
   "language": "python",
   "name": "python3"
  },
  "language_info": {
   "codemirror_mode": {
    "name": "ipython",
    "version": 3
   },
   "file_extension": ".py",
   "mimetype": "text/x-python",
   "name": "python",
   "nbconvert_exporter": "python",
   "pygments_lexer": "ipython3",
   "version": "3.13.5"
  }
 },
 "nbformat": 4,
 "nbformat_minor": 5
}
