{
 "cells": [
  {
   "cell_type": "markdown",
   "id": "a52b4951-2bd8-46d9-b100-1d1e14a08858",
   "metadata": {},
   "source": [
    "# TP0: Primeros pasos\n",
    "### *Autora: Lola Pampin*"
   ]
  },
  {
   "cell_type": "markdown",
   "id": "c8d52736-f79c-40d2-8496-47724de79a3d",
   "metadata": {},
   "source": [
    "## Consigna\n",
    "En este primer trabajo comenzaremos por diseñar un generador de señales que utilizaremos en las primeras simulaciones que hagamos. La primer tarea consistirá en programar una función que genere señales senoidales y que permita parametrizar:\n",
    "\n",
    "la amplitud máxima de la senoidal (volts)\n",
    "su valor medio (volts)\n",
    "la frecuencia (Hz)\n",
    "la fase (radianes)\n",
    "la cantidad de muestras digitalizada por el ADC (# muestras)\n",
    "la frecuencia de muestreo del ADC.\n",
    "es decir que la función que uds armen debería admitir se llamada de la siguiente manera\n",
    "\n",
    "tt, xx = mi_funcion_sen( vmax = 1, dc = 0, ff = 1, ph=0, nn = N, fs = fs)\n",
    "\n",
    "### Adicional: *bonus*\n",
    "\n",
    "Realizar los experimentos que se comentaron en clase. Siguiendo la notación de la función definida más arriba:\n",
    "ff = 500 Hz\n",
    "ff = 999 Hz\n",
    "ff = 1001 Hz\n",
    "ff = 2001 Hz\n",
    "🤯 Implementar alguna otra señal propia de un generador de señales. "
   ]
  },
  {
   "cell_type": "code",
   "execution_count": 4,
   "id": "d55eb64a-2924-41f5-92c7-0d455e5e9f26",
   "metadata": {},
   "outputs": [
    {
     "ename": "ModuleNotFoundError",
     "evalue": "No module named 'scipy'",
     "output_type": "error",
     "traceback": [
      "\u001b[1;31m---------------------------------------------------------------------------\u001b[0m",
      "\u001b[1;31mModuleNotFoundError\u001b[0m                       Traceback (most recent call last)",
      "Cell \u001b[1;32mIn[4], line 3\u001b[0m\n\u001b[0;32m      1\u001b[0m \u001b[38;5;66;03m# Importacion de librerias\u001b[39;00m\n\u001b[0;32m      2\u001b[0m \u001b[38;5;28;01mimport\u001b[39;00m\u001b[38;5;250m \u001b[39m\u001b[38;5;21;01mnumpy\u001b[39;00m\u001b[38;5;250m \u001b[39m\u001b[38;5;28;01mas\u001b[39;00m\u001b[38;5;250m \u001b[39m\u001b[38;5;21;01mnp\u001b[39;00m\n\u001b[1;32m----> 3\u001b[0m \u001b[38;5;28;01mfrom\u001b[39;00m\u001b[38;5;250m \u001b[39m\u001b[38;5;21;01mscipy\u001b[39;00m\u001b[38;5;250m \u001b[39m\u001b[38;5;28;01mimport\u001b[39;00m signal\n\u001b[0;32m      4\u001b[0m \u001b[38;5;28;01mimport\u001b[39;00m\u001b[38;5;250m \u001b[39m\u001b[38;5;21;01mmatplotlib\u001b[39;00m\u001b[38;5;21;01m.\u001b[39;00m\u001b[38;5;21;01mpyplot\u001b[39;00m\u001b[38;5;250m \u001b[39m\u001b[38;5;28;01mas\u001b[39;00m\u001b[38;5;250m \u001b[39m\u001b[38;5;21;01mplt\u001b[39;00m\n\u001b[0;32m      6\u001b[0m \u001b[38;5;66;03m# Definicion de la funcion seno\u001b[39;00m\n",
      "\u001b[1;31mModuleNotFoundError\u001b[0m: No module named 'scipy'"
     ]
    }
   ],
   "source": [
    "# Importacion de librerias\n",
    "import numpy as np\n",
    "from scipy import signal\n",
    "import matplotlib.pyplot as plt\n",
    " \n",
    "# Definicion de la funcion seno\n",
    "def mi_funcion_sen (amp = 1, offset = 0, frec = 1, fase=0, N = 1000, frecADC = 1000):\n",
    "    \n",
    "    ts= 1/frecADC #tiempo al que se toma cada muestra [s]\n",
    "\n",
    "    tt = np.arange(start = 0, stop = N*ts, step = ts)\n",
    "\n",
    "    xx = amp * np.sin( 2 * np.pi * frec * tt + fase) + offset\n",
    "    \n",
    "    return tt, xx\n",
    "n=0\n",
    "# Definicon de la funcion para graficar\n",
    "def graficar(x, y, ejex, ejey, titulo):\n",
    "    plt.plot(x,y,label='Funcion', linestyle='-',color='r') #Genero un grafico llamado 'funcion' con linea 'discontinua-punteada' de color 'rojo'\n",
    "    plt.plot(x,y,label='Puntos',linestyle='',marker='o',color='y') #Genero un grafico llamado 'Puntos', sin linea de color amarillo\n",
    "    plt.title(titulo) #Titulo del grafico\n",
    "    plt.xlabel(ejex) #Titulo del eje\n",
    "    plt.ylabel(ejey) #Titulo del eje \n",
    "    plt.legend() #Muestra las leyendas de cada plot (en este caso seria: label='Funcion', label='Puntos')\n",
    "    plt.tight_layout() #Ajusta las posiciones de los subplots para que no se superpongan\n",
    "    plt.show() #Muestra los graficos\n",
    "# Creacion de variables\n",
    "amp=2 # [Volt]\n",
    "offset = 1 # Valor medio en Volts\n",
    "frec = 5 # Frecuencia en Hz\n",
    "fase= np.pi/4 # Fase en radianes\n",
    "N= 1000 # Cantidad de muestras\n",
    "frecADC= 1000 #frecuencia de muestreo del ADC [Hz]\n",
    "#Llamo a la funcion\n",
    "tt, xx = mi_funcion_sen(amp, offset,frec, fase, N, frecADC)\n",
    "\n",
    "graficar(tt, xx, 't [s]' , 'sen [V]', ' funcion inicial')\n",
    "\n",
    "\n",
    "#---------------------------------Bonus------------------------------------\n",
    "\n",
    "\n",
    "tt1,xx1=mi_funcion_sen (amp = 1, offset = 0, frec = 500, fase=0, N = 1000, frecADC = 500000) #cambio la frecuencia del ADC para poder visualizar el grafico\n",
    "graficar(tt1, xx1, 't[s]','sen [V]', 'frec 500Hz')\n",
    "\n",
    "tt2,xx2=mi_funcion_sen (amp = 1, offset = 0, frec = 999, fase=0, N = 1000, frecADC = 1000)\n",
    "graficar(tt2, xx2, 't[s]','sen [V]', 'frec 999 Hz')\n",
    "\n",
    "tt3,xx3=mi_funcion_sen (amp = 1, offset = 0, frec = 1001, fase=0, N = 1000, frecADC = 1000)\n",
    "graficar(tt3, xx3, 't[s]','sen [V]', 'frec 1001 Hz')\n",
    "\n",
    "tt4,xx4=mi_funcion_sen (amp = 1, offset = 0, frec = 2001, fase=0, N = 1000, frecADC = 1000)\n",
    "graficar(tt4, xx4, 't[s]','sen [V]', 'frec 2001 Hz')\n",
    "\n",
    "def mi_funcion_cuadrada(frec=4, frecADC=100, N=100, offset=0, fase=0):\n",
    "    ts= 1/frecADC #tiempo al que se toma cada muestra [s]\n",
    "\n",
    "    ttc = np.arange(start = 0, stop = N*ts, step = ts)\n",
    "    xxc = signal.square(2 * np.pi * frec * ttc + fase)+offset\n",
    "    graficar(ttc,xxc,'t[s]','senal cuadrada [V]', 'funcion adicional')\n",
    "    \n",
    "mi_funcion_cuadrada()\n"
   ]
  },
  {
   "cell_type": "markdown",
   "id": "19cb9ab0-d354-4a40-a2e0-353f580293b7",
   "metadata": {},
   "source": [
    "# Realización del trabajo\n",
    "\n",
    "Para realizar el trabajo practico *TS0* utilice un archivo proporcionado por la catedra (https://github.com/LolaPampin07/APS/blob/main/Hola%20mundo/mi_senoidal.py). Para el bonus tambien utice como fuente el siguiente link: https://docs.scipy.org/doc/scipy/reference/signal.html#waveforms\n",
    "\n",
    "La ecuación que utilice para calcular el seno fue\n",
    "\\begin{equation}\n",
    "sen (x) = A * sen (2 \\cdot \\pi \\cdot f \\cdot t + \\phi) + offset\n",
    "\\end{equation}\n",
    "Donde f es la frecuencia, t es el tiempo, $\\phi$ es la fase y el offset es el valor medio.\n",
    "De esta forma calcule los valores del seno en el eje y (vector xx). La cantidad de posiciones que tiene este array es la cantidad de muestras que obtengo, y el valor de cada posición es el valor de mi función senoidal en ese punto. \n",
    "El array *tt* (tiempo) tendrá longitud equivalente a la cantidad de muestras solicitadas multiplicado por la frecuencia de muestreo del ADC. \n",
    "\n",
    "Debo admitir que no reconocí todo esto desde un principio y tenia errores de compresión, como por ejemplo, calcular tiempo final como $N \\cdot (1/f)$ , donde f era la frecuencia de mi señal. \n",
    "Para la corrección de estos errores me ayude con inteligencia artificial (*Copilot*).\n",
    "\n",
    "\n",
    "# Conclusiones\n",
    "En resumen, la realización de este trabajo me ayudo a familiarizarme con todas las herramientas que hay que utilizar para esta materia. \n",
    "En un principio sentía que no entendía nada y una vez que lo finalice me pareció divertido. Espero sentirme de la misma manera en los próximos trabajos y que no me gane la frustración.\n"
   ]
  },
  {
   "cell_type": "code",
   "execution_count": null,
   "id": "2d47a9eb-c07c-41e9-a169-3e73771c51b1",
   "metadata": {},
   "outputs": [],
   "source": []
  }
 ],
 "metadata": {
  "kernelspec": {
   "display_name": "Python 3 (ipykernel)",
   "language": "python",
   "name": "python3"
  },
  "language_info": {
   "codemirror_mode": {
    "name": "ipython",
    "version": 3
   },
   "file_extension": ".py",
   "mimetype": "text/x-python",
   "name": "python",
   "nbconvert_exporter": "python",
   "pygments_lexer": "ipython3",
   "version": "3.13.5"
  }
 },
 "nbformat": 4,
 "nbformat_minor": 5
}
